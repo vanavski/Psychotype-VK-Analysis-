{
 "cells": [
  {
   "cell_type": "markdown",
   "metadata": {},
   "source": [
    "Сначала проверить аккаунт на доступности"
   ]
  },
  {
   "cell_type": "code",
   "execution_count": 1,
   "metadata": {},
   "outputs": [],
   "source": [
    "import collections\n",
    "import vk\n",
    "import pandas as pd\n",
    "import time\n",
    "from vk.exceptions import VkAPIError"
   ]
  },
  {
   "cell_type": "markdown",
   "metadata": {},
   "source": [
    "# Подключение к Vk API(создать инструкцию, как подключать токен, юзать интерфейс, перекинуть все в пайчарм)"
   ]
  },
  {
   "cell_type": "code",
   "execution_count": 8,
   "metadata": {},
   "outputs": [],
   "source": [
    "#https://oauth.vk.com/authorize?client_id=7305133&display=page&scope=status,video,photos,friends,wall,notes,groups,docs&response_type=token&v=5.103&state=123456\n",
    "VK_TOKEN = '258c10356eda26c8b36d22409127239327c37b0566f66a4536911484c68608a45aec110eb75788a4086ca'\n",
    "\n",
    "session = vk.Session(VK_TOKEN)\n",
    "api = vk.API(session, v=5.103)\n",
    "deq = collections.deque(maxlen=4)"
   ]
  },
  {
   "cell_type": "code",
   "execution_count": 9,
   "metadata": {},
   "outputs": [],
   "source": [
    "act = 10385605\n",
    "banned = 'bizaro777'"
   ]
  },
  {
   "cell_type": "markdown",
   "metadata": {},
   "source": [
    "# Проверка аккаунта на доступность"
   ]
  },
  {
   "cell_type": "code",
   "execution_count": 10,
   "metadata": {},
   "outputs": [],
   "source": [
    "def check_account(us_id):\n",
    "    try:\n",
    "        user = api.users.get(user_ids = us_id, fields = 'photo_id, verified, sex, bdate, city, country, home_town, has_photo, photo_50, photo_100, photo_200_orig, photo_200, photo_400_orig, photo_max, photo_max_orig, online, domain, has_mobile, contacts, site, education, universities, schools, status, last_seen, followers_count, common_count, occupation, nickname, relatives, relation, personal, connections, exports, activities, interests, music, movies, tv, books, games, about, quotes, can_post, can_see_all_posts, can_see_audio, can_write_private_message, can_send_friend_request, is_favorite, is_hidden_from_feed, timezone, screen_name, maiden_name, crop_photo, is_friend, friend_status, career, military, blacklisted, blacklisted_by_me, can_be_invited_group')\n",
    "        \n",
    "        print('friend id: {} '.format(user[0]['id']))\n",
    "        if (user[0].get('deactivated') != None):\n",
    "            print('deactivated account: {}'.format(user[0]['id']))\n",
    "            return False\n",
    "        elif (user[0]['is_closed'] == 'True'):\n",
    "            print('private account: {}'.format(user[0]['id']))\n",
    "            return False\n",
    "        else: return True\n",
    "    except VkAPIError as e:\n",
    "        if e.code == 18:\n",
    "#                 or VkAPIError.code == 30 or VkAPIError.code == 113 or VkAPIError.code == 203:\n",
    "            print('account #{} is closed or deactivated!'.format(friend['id']))\n",
    "            return False"
   ]
  },
  {
   "cell_type": "code",
   "execution_count": 11,
   "metadata": {},
   "outputs": [
    {
     "name": "stdout",
     "output_type": "stream",
     "text": [
      "friend id: 68937432 \n",
      "deactivated account: 68937432\n"
     ]
    },
    {
     "data": {
      "text/plain": [
       "False"
      ]
     },
     "execution_count": 11,
     "metadata": {},
     "output_type": "execute_result"
    }
   ],
   "source": [
    "check_account(banned)"
   ]
  },
  {
   "cell_type": "code",
   "execution_count": 12,
   "metadata": {},
   "outputs": [
    {
     "data": {
      "text/plain": [
       "[{'id': 1,\n",
       "  'first_name': 'Павел',\n",
       "  'last_name': 'Дуров',\n",
       "  'is_closed': False,\n",
       "  'can_access_closed': True}]"
      ]
     },
     "execution_count": 12,
     "metadata": {},
     "output_type": "execute_result"
    }
   ],
   "source": [
    "k = api.users.get(user_ids=1)\n",
    "k"
   ]
  },
  {
   "cell_type": "code",
   "execution_count": null,
   "metadata": {},
   "outputs": [],
   "source": []
  }
 ],
 "metadata": {
  "kernelspec": {
   "display_name": "Python 3",
   "language": "python",
   "name": "python3"
  },
  "language_info": {
   "codemirror_mode": {
    "name": "ipython",
    "version": 3
   },
   "file_extension": ".py",
   "mimetype": "text/x-python",
   "name": "python",
   "nbconvert_exporter": "python",
   "pygments_lexer": "ipython3",
   "version": "3.7.4"
  }
 },
 "nbformat": 4,
 "nbformat_minor": 2
}
